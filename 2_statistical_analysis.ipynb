{
 "cells": [
  {
   "cell_type": "code",
   "execution_count": 1,
   "metadata": {},
   "outputs": [],
   "source": [
    "d.olam <- read.csv(file = \"acc_olam.txt\", header = 0)\n",
    "d.fld <- read.csv(file = \"acc_fld.txt\", header = 0)"
   ]
  },
  {
   "cell_type": "code",
   "execution_count": 2,
   "metadata": {},
   "outputs": [
    {
     "data": {
      "text/plain": [
       "\n",
       "\tPaired t-test\n",
       "\n",
       "data:  d.fld$V1 and d.olam$V1\n",
       "t = 31.624, df = 99, p-value < 2.2e-16\n",
       "alternative hypothesis: true difference in means is greater than 0\n",
       "99 percent confidence interval:\n",
       " 0.1323693       Inf\n",
       "sample estimates:\n",
       "mean of the differences \n",
       "              0.1430667 \n"
      ]
     },
     "metadata": {},
     "output_type": "display_data"
    }
   ],
   "source": [
    "t.test(x=d.fld$V1, y=d.olam$V1, paired=TRUE, alternative=\"greater\", conf.level = 0.99)"
   ]
  }
 ],
 "metadata": {
  "kernelspec": {
   "display_name": "R",
   "language": "R",
   "name": "ir"
  },
  "language_info": {
   "codemirror_mode": "r",
   "file_extension": ".r",
   "mimetype": "text/x-r-source",
   "name": "R",
   "pygments_lexer": "r",
   "version": "3.5.1"
  }
 },
 "nbformat": 4,
 "nbformat_minor": 2
}
